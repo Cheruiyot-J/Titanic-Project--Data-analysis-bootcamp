{
  "nbformat": 4,
  "nbformat_minor": 0,
  "metadata": {
    "colab": {
      "name": "CHERUIYOT JOYLINE.ipynb",
      "provenance": [],
      "collapsed_sections": []
    },
    "kernelspec": {
      "name": "python3",
      "display_name": "Python 3"
    },
    "language_info": {
      "name": "python"
    }
  },
  "cells": [
    {
      "cell_type": "code",
      "metadata": {
        "id": "naVuWmG3XOVg"
      },
      "source": [
        "import pandas as pd\n",
        "import numpy as np\n",
        "\n",
        "titanic_survivors = pd.read_csv ('/content/titanic survivors.csv')\n",
        "\n",
        "def titanic_survival_analysis():\n",
        "\n",
        "   \n",
        "    # Created a column to find number of family members\n",
        "    titanic_survivors['family_members']=titanic_survivors['SibSp'] + titanic_survivors['Parch']\n",
        "   \n",
        "    # Check if a passanger had any family member\n",
        "    conditions = [\n",
        "    (titanic_survivors['family_members'] == 0),\n",
        "        (titanic_survivors['family_members'] >0)\n",
        "    ]\n",
        "    values = ['alone', 'family']\n",
        "    titanic_survivors['company'] = np.select(conditions, values)\n",
        "   \n",
        "    # Split the data into survivors and deceased\n",
        "    filter_survived = titanic_survivors.Survived == 1\n",
        "    survived = titanic_survivors[filter_survived]\n",
        "    filter_deacesed = titanic_survivors.Survived == 0\n",
        "    deacesed = titanic_survivors[filter_deacesed]\n",
        "   \n",
        "    #gender analysis\n",
        "    df = titanic_survivors.groupby(['Sex'])['Ticket'].count().reset_index(name = 'number_of_passangers')\n",
        "    survived_gender = survived.groupby(['Sex'])['Ticket'].count().reset_index(name = 'number_of_survived_passangers')\n",
        "    final_df = survived_gender.merge(df, how='left' , on ='Sex')\n",
        "    final_df['survival_rate'] = np.round(final_df['number_of_survived_passangers']/final_df['number_of_passangers']*100,2)\n",
        "    final_df = final_df.rename(columns = {'Sex':'metric'}, inplace = False)\n",
        "   \n",
        "    #age analysis\n",
        "    survived_mean_age = survived['Age'].mean()\n",
        "    deceased_mean_age = deacesed['Age'].mean()\n",
        "    age = {'survived_mean_age':survived_mean_age,'deceased_mean_age': deceased_mean_age}\n",
        "   \n",
        "   \n",
        "    #passanger class analysis\n",
        "    passanger_df = titanic_survivors.groupby(['Pclass'])['Ticket'].count().reset_index(name = 'number_of_passangers')\n",
        "    passanger_class_survived = survived.groupby(['Pclass'])['Ticket'].count().reset_index(name = 'number_of_survived_passangers')\n",
        "    new_df = passanger_class_survived.merge(passanger_df, how='left' , on ='Pclass')\n",
        "    new_df['survival_rate'] = np.round(new_df['number_of_survived_passangers']/new_df['number_of_passangers']*100,2)\n",
        "    conditions = [\n",
        "    (new_df['Pclass'] == 1),\n",
        "        (new_df['Pclass'] ==2),\n",
        "        (new_df['Pclass'] ==3)  \n",
        "    ]\n",
        "    values = ['pclass_1', 'pclass_2','pclass_3']\n",
        "    new_df['metric'] = np.select(conditions, values)\n",
        "    new_df = new_df[['metric','number_of_survived_passangers','number_of_passangers','survival_rate']]\n",
        "   \n",
        "    #family analysis\n",
        "    family_df = titanic_survivors.groupby(['company'])['Ticket'].count().reset_index(name = 'number_of_passangers')\n",
        "    family_survived = survived.groupby(['company'])['Ticket'].count().reset_index(name = 'number_of_survived_passangers')\n",
        "    family_new_df = family_df.merge(family_survived, how='left' , on = 'company')\n",
        "    family_new_df['survival_rate']= np.round(family_new_df['number_of_survived_passangers']/family_new_df['number_of_passangers']*100,2)\n",
        "    family_new_df = family_new_df.rename(columns = {'company':'metric'}, inplace = False)\n",
        "   \n",
        "  \n",
        "\n",
        "    # concat the dataframes for the various metrics\n",
        "    work_df = pd.concat([final_df, new_df,family_new_df], ignore_index=True)\n",
        "   \n",
        "   \n",
        "    return work_df"
      ],
      "execution_count": 14,
      "outputs": []
    },
    {
      "cell_type": "code",
      "metadata": {
        "colab": {
          "base_uri": "https://localhost:8080/",
          "height": 266
        },
        "id": "tUSDE6F1XqEl",
        "outputId": "59773ba6-4290-47e9-d919-4bdd1d73c6a5"
      },
      "source": [
        "titanic_survival_analysis()"
      ],
      "execution_count": 15,
      "outputs": [
        {
          "output_type": "execute_result",
          "data": {
            "text/html": [
              "<div>\n",
              "<style scoped>\n",
              "    .dataframe tbody tr th:only-of-type {\n",
              "        vertical-align: middle;\n",
              "    }\n",
              "\n",
              "    .dataframe tbody tr th {\n",
              "        vertical-align: top;\n",
              "    }\n",
              "\n",
              "    .dataframe thead th {\n",
              "        text-align: right;\n",
              "    }\n",
              "</style>\n",
              "<table border=\"1\" class=\"dataframe\">\n",
              "  <thead>\n",
              "    <tr style=\"text-align: right;\">\n",
              "      <th></th>\n",
              "      <th>metric</th>\n",
              "      <th>number_of_survived_passangers</th>\n",
              "      <th>number_of_passangers</th>\n",
              "      <th>survival_rate</th>\n",
              "    </tr>\n",
              "  </thead>\n",
              "  <tbody>\n",
              "    <tr>\n",
              "      <th>0</th>\n",
              "      <td>female</td>\n",
              "      <td>233</td>\n",
              "      <td>314</td>\n",
              "      <td>74.20</td>\n",
              "    </tr>\n",
              "    <tr>\n",
              "      <th>1</th>\n",
              "      <td>male</td>\n",
              "      <td>109</td>\n",
              "      <td>577</td>\n",
              "      <td>18.89</td>\n",
              "    </tr>\n",
              "    <tr>\n",
              "      <th>2</th>\n",
              "      <td>pclass_1</td>\n",
              "      <td>136</td>\n",
              "      <td>216</td>\n",
              "      <td>62.96</td>\n",
              "    </tr>\n",
              "    <tr>\n",
              "      <th>3</th>\n",
              "      <td>pclass_2</td>\n",
              "      <td>87</td>\n",
              "      <td>184</td>\n",
              "      <td>47.28</td>\n",
              "    </tr>\n",
              "    <tr>\n",
              "      <th>4</th>\n",
              "      <td>pclass_3</td>\n",
              "      <td>119</td>\n",
              "      <td>491</td>\n",
              "      <td>24.24</td>\n",
              "    </tr>\n",
              "    <tr>\n",
              "      <th>5</th>\n",
              "      <td>alone</td>\n",
              "      <td>163</td>\n",
              "      <td>537</td>\n",
              "      <td>30.35</td>\n",
              "    </tr>\n",
              "    <tr>\n",
              "      <th>6</th>\n",
              "      <td>family</td>\n",
              "      <td>179</td>\n",
              "      <td>354</td>\n",
              "      <td>50.56</td>\n",
              "    </tr>\n",
              "  </tbody>\n",
              "</table>\n",
              "</div>"
            ],
            "text/plain": [
              "     metric  number_of_survived_passangers  number_of_passangers  survival_rate\n",
              "0    female                            233                   314          74.20\n",
              "1      male                            109                   577          18.89\n",
              "2  pclass_1                            136                   216          62.96\n",
              "3  pclass_2                             87                   184          47.28\n",
              "4  pclass_3                            119                   491          24.24\n",
              "5     alone                            163                   537          30.35\n",
              "6    family                            179                   354          50.56"
            ]
          },
          "metadata": {
            "tags": []
          },
          "execution_count": 15
        }
      ]
    },
    {
      "cell_type": "code",
      "metadata": {
        "colab": {
          "base_uri": "https://localhost:8080/"
        },
        "id": "I1HjTkDQhuQq",
        "outputId": "790e464f-e46f-42a7-f74f-09e6cffc9f23"
      },
      "source": [
        "# Embarkation Point Analysis\n",
        "embarked_df =titanic_survivors ['Embarked'].describe()\n",
        "print (embarked_df)"
      ],
      "execution_count": 16,
      "outputs": [
        {
          "output_type": "stream",
          "text": [
            "count     889\n",
            "unique      3\n",
            "top         S\n",
            "freq      644\n",
            "Name: Embarked, dtype: object\n"
          ],
          "name": "stdout"
        }
      ]
    },
    {
      "cell_type": "markdown",
      "metadata": {
        "id": "5TGkiUFfYNAI"
      },
      "source": [
        "**CONCLUSIONS**\n",
        "\n",
        "Female passengers had a higher survival rate than male passengers.\n",
        "\n",
        "Passengers in first class had a higher rate of survival while the 3rd class had a lower rate of survival.\n",
        "\n",
        "Those with their families had a high rate of survival.\n",
        "\n",
        "Passengers who boarded the ship at Southampton survived more than the others.\n",
        "\n"
      ]
    }
  ]
}